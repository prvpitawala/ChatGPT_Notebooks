{
  "nbformat": 4,
  "nbformat_minor": 0,
  "metadata": {
    "colab": {
      "provenance": []
    },
    "kernelspec": {
      "name": "python3",
      "display_name": "Python 3"
    },
    "language_info": {
      "name": "python"
    }
  },
  "cells": [
    {
      "cell_type": "code",
      "source": [
        "# install open ai\n",
        "!pip install openai -q"
      ],
      "metadata": {
        "id": "10rdRHeA3_rQ"
      },
      "execution_count": 7,
      "outputs": []
    },
    {
      "cell_type": "code",
      "execution_count": 3,
      "metadata": {
        "id": "HwilBj5g29Cc"
      },
      "outputs": [],
      "source": [
        "# Import open ai\n",
        "import openai"
      ]
    },
    {
      "cell_type": "code",
      "source": [
        "# prompt\n",
        "prompt = \"hello\""
      ],
      "metadata": {
        "id": "Z_GieQfU3g0n"
      },
      "execution_count": 5,
      "outputs": []
    },
    {
      "cell_type": "code",
      "source": [
        "# print the prompt\n",
        "print(\"Prompt for GPT-4:\", prompt)"
      ],
      "metadata": {
        "colab": {
          "base_uri": "https://localhost:8080/"
        },
        "id": "ZeltKaskAUKn",
        "outputId": "ea86d08b-b215-4ba1-ab07-55679e8bcfba"
      },
      "execution_count": 8,
      "outputs": [
        {
          "output_type": "stream",
          "name": "stdout",
          "text": [
            "Prompt for GPT-4: hello\n"
          ]
        }
      ]
    },
    {
      "cell_type": "code",
      "source": [
        "message = ''\n",
        "\n",
        "GPT_CALLS_ENABLED = True\n",
        "\n",
        "if GPT_CALLS_ENABLED:\n",
        "    # Add the GPT-4 API key\n",
        "    openai.api_key = ''\n",
        "    response = openai.ChatCompletion.create(\n",
        "        model=\"gpt-4\",\n",
        "        max_tokens=1024,\n",
        "        messages=[{\"role\":\"user\", \"content\": f\"{prompt}\"}]\n",
        "        )\n",
        "message = response['choices'][0]['message']['content']"
      ],
      "metadata": {
        "id": "szcJVOiL30gN"
      },
      "execution_count": null,
      "outputs": []
    }
  ]
}