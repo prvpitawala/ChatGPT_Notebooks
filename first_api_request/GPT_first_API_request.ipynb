{
  "nbformat": 4,
  "nbformat_minor": 0,
  "metadata": {
    "colab": {
      "provenance": []
    },
    "kernelspec": {
      "name": "python3",
      "display_name": "Python 3"
    },
    "language_info": {
      "name": "python"
    }
  },
  "cells": [
    {
      "cell_type": "markdown",
      "source": [
        "# This notebook is working only vs code.\n",
        "\n"
      ],
      "metadata": {
        "id": "JvIOwkn8Ystw"
      }
    },
    {
      "cell_type": "code",
      "execution_count": null,
      "metadata": {
        "id": "smkyKyMrYJnL"
      },
      "outputs": [],
      "source": [
        "# import open-ai\n",
        "from openai import OpenAI"
      ]
    },
    {
      "cell_type": "code",
      "source": [
        "# setup client\n",
        "client = OpenAI()"
      ],
      "metadata": {
        "id": "qLlKjsOqY8rk"
      },
      "execution_count": null,
      "outputs": []
    },
    {
      "cell_type": "code",
      "source": [
        "def chat_with_gpt(prompt):\n",
        "    completion = client.chat.completions.create(\n",
        "        model=\"gpt-4\",\n",
        "        messages=[\n",
        "            {\"role\": \"system\", \"content\": prompt}\n",
        "        ]\n",
        "        )\n",
        "    return completion.choices[0].message.content.strip()"
      ],
      "metadata": {
        "id": "KRWC5oFfZBV3"
      },
      "execution_count": null,
      "outputs": []
    },
    {
      "cell_type": "code",
      "source": [
        "# Sample prompt\n",
        "prompt = \"hello GPT\""
      ],
      "metadata": {
        "id": "SV8H-CVbZEce"
      },
      "execution_count": null,
      "outputs": []
    },
    {
      "cell_type": "code",
      "source": [
        "# Print the GPT response\n",
        "print(chat_with_gpt(\"hello\"))"
      ],
      "metadata": {
        "id": "SR2ZJ31GZIRJ"
      },
      "execution_count": null,
      "outputs": []
    }
  ]
}